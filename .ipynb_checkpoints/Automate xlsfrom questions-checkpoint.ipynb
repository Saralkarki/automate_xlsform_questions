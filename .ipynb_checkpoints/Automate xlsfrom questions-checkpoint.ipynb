{
 "cells": [
  {
   "cell_type": "markdown",
   "id": "fc529bf9-a2f9-499f-b96e-99bf915a809c",
   "metadata": {},
   "source": [
    "## Problem definition\n",
    "\n",
    "##### 1. Design a survey in XLSform where N number of questions are asked N number of times with minor changes in the questions each time.\n",
    "\n",
    "Example : Ask these set of questions to \n",
    "\n",
    "    1. Please select a possible spare parts for (__machine_name___) that can be manufactured in Nepal? (Multi select)\n",
    "    2. How many (__machine__name___) do you own? (Integer)\n",
    "    3. Are are the (__machine__name__) in working condition? (select one)\n",
    "\n",
    "machine_name  = combine harvester','diesel minitiller','diesel pump', 'disc harrow', 'paddy thresher',\n",
    "           'petrol minitiller','power tiller','pump set','reaper','rice mill','rotavator', 'thresher rice',\n",
    "           'thresher wheat','tractor', 'water_pump', 'thresher'\n",
    "\n",
    "#### Copy pasting these questions for each of the  machine in xlsform is extremely time consuming. And there we automate the process."
   ]
  },
  {
   "cell_type": "markdown",
   "id": "31a7734f-0dd9-4ed3-9634-93aec11d2355",
   "metadata": {},
   "source": [
    "Import pandas library. If not installed, quickly install the pandas library using ```pip install pandas ```"
   ]
  },
  {
   "cell_type": "code",
   "execution_count": 132,
   "id": "48b88180-bdb8-4e0e-a8b7-5cbea52035d4",
   "metadata": {},
   "outputs": [],
   "source": [
    "import pandas as pd"
   ]
  },
  {
   "cell_type": "markdown",
   "id": "76b5eb70-78b4-4249-868e-aba2a1096285",
   "metadata": {},
   "source": [
    "Define the column names required for the excel sheet. The mandatory columns ``` type, name , label ``` must be explicitly defined. The other column headings such as ``` relevant, constraint, appereance, calculation,  ``` can be added as required. For this example ``` appearance ``` column has been added."
   ]
  },
  {
   "cell_type": "code",
   "execution_count": 133,
   "id": "fe038383-1418-4075-a274-b05697486449",
   "metadata": {},
   "outputs": [],
   "source": [
    "col_names =  ['type', 'name', 'label','appearance']\n"
   ]
  },
  {
   "cell_type": "markdown",
   "id": "6bb023b5-1a4b-4680-9dbd-bdc0c1c93d43",
   "metadata": {},
   "source": [
    "Create an empty dataframe, defining the columns as the earlier set col_names. Also define all the machine name that the questions need to be asked for."
   ]
  },
  {
   "cell_type": "code",
   "execution_count": 134,
   "id": "fdcd2cc4-0c3b-4d1c-a467-170cb01654ac",
   "metadata": {},
   "outputs": [],
   "source": [
    "df = pd.DataFrame(columns = col_names)\n",
    "df_1 =   pd.DataFrame(columns = col_names)"
   ]
  },
  {
   "cell_type": "code",
   "execution_count": 135,
   "id": "77e64895-0266-4fb1-84d1-25aea0c85f0f",
   "metadata": {},
   "outputs": [],
   "source": [
    "machines  = ['combine_harvester','diesel_minitiller','diesel_pump', 'disc_harrow', 'paddy_thresher',\n",
    "           'petrol_minitiller','power_tiller','pump_set','reaper','rice_mill','rotavator', 'thresher_rice',\n",
    "           'thresher_wheat','tractor', 'wate_pump', 'thresher']"
   ]
  },
  {
   "cell_type": "markdown",
   "id": "e4866a6b-bcf4-4a19-8502-e28218dbc717",
   "metadata": {},
   "source": [
    "Creating empty arrays to store the type, name and label of the questions"
   ]
  },
  {
   "cell_type": "code",
   "execution_count": 136,
   "id": "64f6b102-9218-4592-b61f-7c6ae4416d90",
   "metadata": {},
   "outputs": [],
   "source": [
    "question_type = []\n",
    "question_name = []\n",
    "question_label = []\n",
    "question_appereance = []"
   ]
  },
  {
   "cell_type": "markdown",
   "id": "ff4061e8-bf07-481e-b46d-b39ab6f6b417",
   "metadata": {},
   "source": [
    "Loop through the various type of machines and append the question type, question name and question label to the respectieve arrays. "
   ]
  },
  {
   "cell_type": "code",
   "execution_count": 137,
   "id": "46def9bb-018e-4568-b7a2-d78c10512cf1",
   "metadata": {},
   "outputs": [],
   "source": [
    "for machine in machines:\n",
    "    ## append all the type feature to the type array\n",
    "    question_type.append(f'begin group')\n",
    "    question_type.append(f'select_multiple spare_parts_{machine}')\n",
    "    question_type.append('decimal')\n",
    "    question_type.append(f'select_one {machine}_working')\n",
    "    question_type.append(f'end group')\n",
    "    ## append all the question names to the question name array\n",
    "    question_name.append(f'Group_start_{machine}')\n",
    "    question_name.append(f'spare_parts {machine}')\n",
    "    question_name.append(f'total_machines {machine}')\n",
    "    question_name.append(f'{machine}_working')\n",
    "    question_name.append(f'Group_End_{machine}')\n",
    "    ## append all the question (lables) to the label array\n",
    "    question_label.append(f'{machine } group')\n",
    "    question_label.append(f'Please select a possible spare parts for {machine }that can be manufactured in Nepal')\n",
    "    question_label.append(f'How many {machine } do you own?')\n",
    "    question_label.append(f'Are are the {machine } in working condition?')\n",
    "    question_label.append(f'{machine } end group')\n",
    "    ## append all the appereance to the appereance array. \n",
    "    question_appereance.append('field_list')## The appereance for Begin grouped question\n",
    "    question_appereance.append('compact')## Appreance for multiselect\n",
    "    question_appereance.append('')## Appereance for decimal (leaving this blank\n",
    "    question_appereance.append('') ## Appereance for single select (leaving this blank\n",
    "    question_appereance.append('') ## end group\n",
    "    \n"
   ]
  },
  {
   "cell_type": "markdown",
   "id": "6aec8778-df21-402e-b1c1-ce7863a03a9d",
   "metadata": {},
   "source": [
    "Add the arrays to pandas dataframe."
   ]
  },
  {
   "cell_type": "code",
   "execution_count": 138,
   "id": "87ee1e79-e1cc-4b03-8b56-22f5020aca89",
   "metadata": {},
   "outputs": [],
   "source": [
    "df['type'], df['name'], df['label'], df['appearance'] = question_type, question_name, question_label, question_appereance"
   ]
  },
  {
   "cell_type": "markdown",
   "id": "8e16cd43-e5bd-4b5e-ae00-32e924ef6796",
   "metadata": {},
   "source": [
    "## Solution 2"
   ]
  },
  {
   "cell_type": "code",
   "execution_count": 139,
   "id": "fb940c7e-2196-4bbf-b0e5-da1df0cee600",
   "metadata": {},
   "outputs": [],
   "source": [
    "#add new row to end of DataFrame\n",
    "for machine in machines:\n",
    "    ## type column\n",
    "    df_1.loc[len(df_1.index)] = ['begin group',f'Group_start_{machine}', f'{machine } group','field_list']\n",
    "    df_1.loc[len(df_1.index)] = [f'select_multiple spare_parts_{machine}',f'spare_parts {machine}' , f'Please select a possible spare parts for {machine }that can be manufactured in Nepal','compact']\n",
    "    df_1.loc[len(df_1.index)] = ['decimal', f'total_machines {machine}' , f'How many {machine } do you own?','']\n",
    "    df_1.loc[len(df_1.index)] = [f'select_one {machine}_working', f'{machine}_working' , f'Are are the {machine } in working condition?','']\n",
    "    df_1.loc[len(df_1.index)] = [f'end group',f'Group_End_{machine}' , f'{machine } end group','']\n",
    "    ## empty row for cleaner excel file\n",
    "    df_1.loc[len(df_1.index)] = ['','' , '','']"
   ]
  },
  {
   "cell_type": "markdown",
   "id": "b9ab3068-33a8-4696-b87b-a6c2eccf6655",
   "metadata": {},
   "source": [
    "Export the pandas dataframe to xlsx and voila your xlsform is ready. The hassle of having to copy/paste and rename the machine name for each question now history. \n",
    "\n",
    "<i> you might have to install openpyxl </i> ``` pip install openpyxl```\n"
   ]
  },
  {
   "cell_type": "code",
   "execution_count": 140,
   "id": "360cfa14-894f-49b5-8ded-f49bf2418a5c",
   "metadata": {},
   "outputs": [],
   "source": [
    "df.to_excel('Automate xlsform questions/quick_file.xlsx', index=False)"
   ]
  },
  {
   "cell_type": "code",
   "execution_count": 160,
   "id": "5f9af7ee-787c-4f26-9cc9-d5ed98976f35",
   "metadata": {},
   "outputs": [],
   "source": [
    "df_1.to_excel('Automate xlsform questions/quick_file_2.xlsx', index = False, sheet_name = 'survey')"
   ]
  },
  {
   "cell_type": "code",
   "execution_count": null,
   "id": "571677c7-29d2-4dcc-a7d7-82abafd1371c",
   "metadata": {},
   "outputs": [],
   "source": []
  }
 ],
 "metadata": {
  "kernelspec": {
   "display_name": "Python 3 (ipykernel)",
   "language": "python",
   "name": "python3"
  },
  "language_info": {
   "codemirror_mode": {
    "name": "ipython",
    "version": 3
   },
   "file_extension": ".py",
   "mimetype": "text/x-python",
   "name": "python",
   "nbconvert_exporter": "python",
   "pygments_lexer": "ipython3",
   "version": "3.10.3"
  }
 },
 "nbformat": 4,
 "nbformat_minor": 5
}
